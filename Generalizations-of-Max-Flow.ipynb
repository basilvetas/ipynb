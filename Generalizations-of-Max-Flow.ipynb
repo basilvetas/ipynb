{
 "cells": [
  {
   "cell_type": "markdown",
   "metadata": {},
   "source": [
    "# Generalizations of Max-Flow\n",
    "\n",
    "The purpose of this assignment is to learn about the min-cost flow problem, a generalization of max-flow, and to familiarize yourself with implementing and solving linear programs."
   ]
  },
  {
   "cell_type": "markdown",
   "metadata": {},
   "source": [
    "## Min-Cost Flow\n",
    "\n",
    "Recall that a flow network with demands consists of a directed graph $G = (V, E)$, where each edge $(i,j) \\in E$ has a positive integer capacity $c_{ij}$ and each node $i \\in V$ has an integer demand $d_i$. In a *min-cost flow* problem, each edge $(i,j) \\in E$ also has a cost (or weight) $w_{ij}$. (Note that this input generalizes the input to two important problems we discussed so far: in max flow, the edge weights were not important while in shortest paths, the edge capacities were not important.) \n",
    "\n",
    "Given a flow network with capacities and costs, the goal is to find a *feasible* flow $f: E \\rightarrow R^+$ --that is, a flow satisfying edge capacity constraints and node demands-- that minimizes the total cost of the flow. Explicitly, the problem can be formulated as a linear program."
   ]
  },
  {
   "cell_type": "markdown",
   "metadata": {},
   "source": [
    "### Question 1\n",
    "\n",
    "Answer Problem 1 in HW4-theoretical."
   ]
  },
  {
   "cell_type": "markdown",
   "metadata": {},
   "source": [
    "### Question 2\n",
    "\n",
    "To implement your reduction from Problem 1 in HW4-theoretical, you will work with some standard benchmark instances for min-cost flow found [here](http://elib.zib.de/pub/Packages/mp-testdata/mincost/gte/index.html). The format of the data is described in the [Info](http://elib.zib.de/pub/Packages/mp-testdata/mincost/gte/info) file. You are to read in the graph from the data file in a form that can be solved using NetworkX's `min_cost_flow` function. Note that the data sometimes lists multiple edges between the same nodes, but with different costs or capacities. In forming the graph, you need to implement your reduction from the previous question and form a `DiGraph` instance, because the `min_cost_flow` function cannot handle multi-edges, even though the package offers `MultiDiGraph` objects."
   ]
  },
  {
   "cell_type": "code",
   "execution_count": 1,
   "metadata": {
    "collapsed": false
   },
   "outputs": [],
   "source": [
    "import networkx as nx\n",
    "\n",
    "def create_graph(infile):\n",
    "    \"\"\"Creates a directed graph as specified by the input file. Edges are annotated with 'capacity'\n",
    "    and 'weight' attributes, and nodes are annotated with 'demand' attributes.\n",
    "    \n",
    "    Args:\n",
    "        infile: the input file using the format to specify a min-cost flow problem.\n",
    "        \n",
    "    Returns:\n",
    "        A directed graph (but not a multi-graph) with edges annotated with 'capacity' and 'weight' attributes\n",
    "        and nodes annotated with 'demand' attributes.\n",
    "    \"\"\"\n",
    "    # TODO: implement function\n",
    "    \n",
    "    # create empty graph and open file\n",
    "    G = nx.DiGraph()\n",
    "    file = open(infile)\n",
    "    \n",
    "    # for confirming correctness\n",
    "    total_nodes = 0;\n",
    "    total_edges = 0;\n",
    "    total=0;\n",
    "    \n",
    "    # read and parse each line in file. Update graph\n",
    "    for line in file:\n",
    "        line = line.strip().split()\n",
    "        if len(line) > 0:\n",
    "            if line[0] == 'p':               # handle problem statement\n",
    "                total_nodes = int(line[2])\n",
    "                total_edges = int(line[3])\n",
    "            elif line[0] == 'n':             # handle nodes\n",
    "                G.add_node(line[1], demand = int(line[2]))                \n",
    "            elif line[0] == 'a':             # handle edges                \n",
    "                temp = str(total_nodes + 1)  # a way to name new nodes without conflict\n",
    "                \n",
    "                G.add_edge(line[1], temp, weight = int(line[5]), capacity = int(line[4]))\n",
    "                G.add_edge(temp, line[2], capacity = int(line[4]))\n",
    "                \n",
    "                # for reduction we end up with one additional node and edge for each edge                \n",
    "                total_nodes += 1\n",
    "                total_edges += 1\n",
    "    \n",
    "    # checks for correct number of nodes and edges, not necessary for reduction\n",
    "    if G.number_of_nodes() != total_nodes:\n",
    "        print \"ERROR: Nodes in graph do not match nodes in file\"\n",
    "        \n",
    "    if G.number_of_edges() != total_edges:\n",
    "        print \"ERROR: Edges in graph do not match edges in file\"\n",
    "    \n",
    "    return G"
   ]
  },
  {
   "cell_type": "markdown",
   "metadata": {},
   "source": [
    "The following will check that your code outputs the expected min cost flow values on several test instances."
   ]
  },
  {
   "cell_type": "code",
   "execution_count": 2,
   "metadata": {
    "collapsed": false
   },
   "outputs": [
    {
     "name": "stdout",
     "output_type": "stream",
     "text": [
      "Correct value for _40 instance: True\n",
      "Correct value for _6830 instance: True\n",
      "Correct value for _176280 instance: True\n"
     ]
    }
   ],
   "source": [
    "G_40 = create_graph('gte_bad.40')\n",
    "G_6830 = create_graph('gte_bad.6830')\n",
    "G_176280 = create_graph('gte_bad.176280')\n",
    "\n",
    "\n",
    "print \"Correct value for _40 instance:\", nx.min_cost_flow_cost(G_40) == 52099553858\n",
    "print \"Correct value for _6830 instance:\", nx.min_cost_flow_cost(G_6830) == 299390431788\n",
    "print \"Correct value for _176280 instance:\", nx.min_cost_flow_cost(G_176280) == 510585093810"
   ]
  },
  {
   "cell_type": "markdown",
   "metadata": {},
   "source": [
    "## Linear Programming\n",
    "\n",
    "Instead of using special-purpose min-cost flow solvers, you will now formulate the problems as linear programs and use general-purpose LP solvers to find the solutions."
   ]
  },
  {
   "cell_type": "markdown",
   "metadata": {},
   "source": [
    "### Question 3\n",
    "\n",
    "Implement the following function to formulate the flow LP and return the optimal value (i.e., minimum cost over feasible flows)."
   ]
  },
  {
   "cell_type": "code",
   "execution_count": 3,
   "metadata": {
    "collapsed": false
   },
   "outputs": [],
   "source": [
    "import pulp\n",
    "\n",
    "def lp_flow_value(G):\n",
    "    \"\"\"Computes the value of the minimum cost flow by formulating and solving\n",
    "    the problem as an LP.\n",
    "    \n",
    "    Args:\n",
    "        G: a directed graph with edges annotated with 'capacity' and 'weight'\n",
    "            attrbutes, and nodes annotated with 'demand' attributes.\n",
    "            \n",
    "    Returns:\n",
    "        The value of the minimum cost flow.\n",
    "    \"\"\"\n",
    "    # TODO: implement function\n",
    "    \n",
    "    # will hold our data for variables in LP\n",
    "    nodes = []\n",
    "    edges = []\n",
    "    nodeProps = {}\n",
    "    edgeProps = {}\n",
    "        \n",
    "    # demand variables: extract nodes and demands from G\n",
    "    for n in G.nodes():\n",
    "        nodes.append(n)\n",
    "        if 'demand' in G.node[n]:\n",
    "            nodeProps[n] = G.node[n]['demand']\n",
    "        else: \n",
    "            nodeProps[n] = 0 # demand 0 if not set\n",
    "        \n",
    "    # weight and capacity variables: extract edges, weights and capacities from G\n",
    "    for (u, v) in G.edges():\n",
    "        edges.append((u, v))\n",
    "        if 'weight' in G.edge[u][v]:\n",
    "            edgeProps[(u, v)] = [G.edge[u][v]['weight'], G.edge[u][v]['capacity']]  \n",
    "        else:\n",
    "            edgeProps[(u, v)] = [0, G.edge[u][v]['capacity']]\n",
    "        \n",
    "    # flow variables\n",
    "    flows = pulp.LpVariable.dicts(\"Flow\", edges, None, None, pulp.LpInteger)\n",
    "\n",
    "    # problem statement     \n",
    "    prob = pulp.LpProblem(\"Minimum Cost Flow\", pulp.LpMinimize)\n",
    " \n",
    "    # objective function\n",
    "    prob += pulp.lpSum([flows[e]* edgeProps[e][0] for e in edges]) # sum of flows * weights\n",
    "    \n",
    "    # capacity constraints\n",
    "    for e in edges:\n",
    "        flows[e].bounds(0, edgeProps[e][1]) # lower bound (0), upper bound (capacity)        \n",
    "    \n",
    "    # flow conservation constraints\n",
    "    for n in nodes:\n",
    "        f_in = pulp.lpSum([flows[(u,v)] for (u,v) in edges if v == n]) # sum of in_degree flow\n",
    "        f_out = pulp.lpSum([flows[(u,v)] for (u,v) in edges if u == n]) # sum of out_degree flow        \n",
    "        prob += (f_out - f_in == nodeProps[n]) # f_out - f_in = demand\n",
    "    \n",
    "    # solve the linear program     \n",
    "    prob.solve()\n",
    " \n",
    "    # return value of objective function as integer\n",
    "    return int(pulp.value(prob.objective))\n"
   ]
  },
  {
   "cell_type": "markdown",
   "metadata": {},
   "source": [
    "The following will check that the LP finds the same optimal values as previously."
   ]
  },
  {
   "cell_type": "code",
   "execution_count": 4,
   "metadata": {
    "collapsed": false
   },
   "outputs": [
    {
     "name": "stdout",
     "output_type": "stream",
     "text": [
      "Correct value for _40 instance: True\n",
      "Correct value for _6830 instance: True\n",
      "Correct value for _176280 instance: True\n"
     ]
    }
   ],
   "source": [
    "print \"Correct value for _40 instance:\", lp_flow_value(G_40) == 52099553858\n",
    "print \"Correct value for _6830 instance:\", lp_flow_value(G_6830) == 299390431788\n",
    "print \"Correct value for _176280 instance:\", lp_flow_value(G_176280) == 510585093810"
   ]
  },
  {
   "cell_type": "code",
   "execution_count": null,
   "metadata": {
    "collapsed": true
   },
   "outputs": [],
   "source": []
  }
 ],
 "metadata": {
  "kernelspec": {
   "display_name": "Python 2",
   "language": "python",
   "name": "python2"
  },
  "language_info": {
   "codemirror_mode": {
    "name": "ipython",
    "version": 2
   },
   "file_extension": ".py",
   "mimetype": "text/x-python",
   "name": "python",
   "nbconvert_exporter": "python",
   "pygments_lexer": "ipython2",
   "version": "2.7.10"
  }
 },
 "nbformat": 4,
 "nbformat_minor": 0
}
