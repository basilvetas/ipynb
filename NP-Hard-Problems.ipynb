{
 "cells": [
  {
   "cell_type": "markdown",
   "metadata": {},
   "source": [
    "# NP-Hard Problems\n",
    "\n",
    "The purpose of this assignment is to familiarize yourself with different approaches to solving NP-hard problems in practice, especially via integer programming.\n",
    "\n",
    "As in previous assignments, we will use [NetworkX](https://networkx.github.io/) to manipulate graphs and [PuLP](http://pythonhosted.org/PuLP/) to solve linear and integer programs."
   ]
  },
  {
   "cell_type": "code",
   "execution_count": 142,
   "metadata": {
    "collapsed": false
   },
   "outputs": [],
   "source": [
    "import networkx as nx\n",
    "import pulp"
   ]
  },
  {
   "cell_type": "markdown",
   "metadata": {},
   "source": [
    "We will use two graph datasets for this assignment, both available in [GML](https://en.wikipedia.org/wiki/Graph_Modelling_Language) format. The first is a well-known graph of the social network of a karate club [1]. The second is a network representing the western states power grid in the US [2]."
   ]
  },
  {
   "cell_type": "code",
   "execution_count": 143,
   "metadata": {
    "collapsed": false
   },
   "outputs": [],
   "source": [
    "karate = nx.read_gml('karate.gml')\n",
    "power = nx.read_gml('power.gml')\n",
    "\n",
    "#\n",
    "# The nx.read_gml() function was giving me an error, which I believe was\n",
    "# due to the version of NetworkX I am using.  I wrote this function to \n",
    "# read in the gml files in order to avoid having to revert my NetworkX \n",
    "# installation to a previous version (others appear to have had the same\n",
    "# problem - see Piazza @243)\n",
    "#\n",
    "# def my_read_gml(gml_file):\n",
    "    \n",
    "#     G = nx.Graph()\n",
    "    \n",
    "#     file = open(gml_file)\n",
    "#     temp_src = -1\n",
    "#     for line in file:\n",
    "#         tokens = line.strip().split()\n",
    "#         if tokens[0] == 'id':\n",
    "#             G.add_node(int(tokens[1]))\n",
    "        \n",
    "#         if tokens[0] == 'source':\n",
    "#             if(temp_src) != -1:\n",
    "#                 print \"ERROR: Unexpected formatting in file\"                \n",
    "#             temp_src = int(tokens[1])\n",
    "        \n",
    "#         if tokens[0] == 'target':\n",
    "#             G.add_edge(temp_src, int(tokens[1]))\n",
    "#             temp_src = -1\n",
    "\n",
    "#     return G\n",
    "\n",
    "# karate = my_read_gml('karate.gml')\n",
    "# power = my_read_gml('power.gml')\n",
    "\n",
    "\n",
    "\n",
    "# Test graph 1\n",
    "\n",
    "# G = nx.Graph()\n",
    "\n",
    "# for i in range(0, 24):\n",
    "#     G.add_node(i)\n",
    "    \n",
    "# for i in range(0, 12):\n",
    "#     G.add_edge(i, (i + 1)%12)\n",
    "#     G.add_edge(i, i + 12)\n",
    "\n",
    "# for i in range(12, 16):\n",
    "#     G.add_edge(i, i + 4)\n",
    "#     G.add_edge(i + 4, i + 8)\n",
    "#     G.add_edge(i + 8, i)\n",
    "\n",
    "# Max size indepdenent set should be 9\n",
    "\n",
    "\n",
    "# Test graph 2\n",
    "\n",
    "# G = nx.Graph()\n",
    "\n",
    "# for i in range(0, 12):\n",
    "#     G.add_node(i)\n",
    "\n",
    "# for i in range(0, 7):\n",
    "#     G.add_edge(i, (i + 1)%7)\n",
    "\n",
    "# G.add_edge(0, 7)\n",
    "# G.add_edge(1, 8)\n",
    "# G.add_edge(2, 8)\n",
    "# G.add_edge(3, 9)\n",
    "# G.add_edge(4, 9)\n",
    "# G.add_edge(5, 10)\n",
    "# G.add_edge(6, 10)\n",
    "# G.add_edge(7, 8)\n",
    "# G.add_edge(7, 11)\n",
    "# G.add_edge(9, 11)\n",
    "# G.add_edge(10, 11)\n",
    "\n",
    "# Max size indepdenent set should be 5"
   ]
  },
  {
   "cell_type": "markdown",
   "metadata": {},
   "source": [
    "[1] W. Zachary, An information flow model for conflict and fission in small groups, Journal of Anthropological Research 33, 452-473 (1977). \n",
    "\n",
    "[2] D. J. Watts and S. H. Strogatz, Collective dynamics of 'small world' networks, Nature 393, 440-442 (1998). "
   ]
  },
  {
   "cell_type": "markdown",
   "metadata": {},
   "source": [
    "\n",
    "## Independent Set\n",
    "\n",
    "Recall that an *independent set* in a graph is a set of nodes such that no two nodes are adjacent (connected by an edge). Finding the maximum size of an independent set in a graph is an NP-hard problem, so there is no known polynomial-time algorithm to solve it.\n",
    "\n",
    "### Problem 1\n",
    "\n",
    "Provide an *integer program* formulation for this problem. This should look identical to a linear program formulation, except you will restrict the variables corresponding to the nodes to be integer instead of fractional.\n",
    "\n",
    "The graph is denoted $G = (V, E)$. For this problem, you should use a binary variable $x_i \\in \\{0,1\\}$ for each node $i \\in V$, and you shouldn't need any other variables."
   ]
  },
  {
   "cell_type": "markdown",
   "metadata": {},
   "source": [
    "#### Solution:\n",
    "\n",
    "Integer program with the following input variables, linear objective function and linear constraints:\n",
    "\n",
    "Input Variables:\n",
    "\n",
    "$x_i$: a binary variable that equals 1 if node $i$ is in our independent set, and 0 otherwise\n",
    "\n",
    "Linear Objective Function:\n",
    "\n",
    "$ \\max \\sum_{i \\in V} x_i$\n",
    "\n",
    "Subject to the linear constraints:\n",
    "\n",
    "$x_i \\in \\{0,1\\}$  $\\forall i \\in V $ \n",
    "\n",
    "$x_i + x_j \\leq 1$  $\\forall (i,j) \\in E$\n",
    "\n"
   ]
  },
  {
   "cell_type": "markdown",
   "metadata": {},
   "source": [
    "### Problem 2\n",
    "\n",
    "Implement a function that solves the integer program given a graph as input."
   ]
  },
  {
   "cell_type": "code",
   "execution_count": 144,
   "metadata": {
    "collapsed": false
   },
   "outputs": [],
   "source": [
    "def independent_set_ip(graph):\n",
    "    \"\"\"Computes a maximum independent set of a graph using an integer program.\n",
    "    \n",
    "    Args:\n",
    "      - graph (nx.Graph): an undirected graph\n",
    "    \n",
    "    Returns:\n",
    "        (list[(int, int)]) The IP solution as a list of node-value pairs.\n",
    "        \n",
    "    \"\"\"    \n",
    "    # TODO: implement function\n",
    "    \n",
    "    nodes = []\n",
    "    edges = []\n",
    "    \n",
    "    # extract nodes from graph\n",
    "    for n in graph.nodes():\n",
    "        nodes.append(n)        \n",
    "        \n",
    "    # extract edges from graph\n",
    "    for (u, v) in graph.edges():\n",
    "        edges.append((u, v))\n",
    "    \n",
    "    # indicator variables: x_i = 1 if node i is in MSIS, x = 0 otherwise\n",
    "    x = pulp.LpVariable.dicts(\"Indicators\", nodes, None, None, pulp.LpInteger)\n",
    "    \n",
    "    # problem statement     \n",
    "    prob = pulp.LpProblem(\"Maximum Size Independent Set\", pulp.LpMaximize)\n",
    " \n",
    "    # objective function\n",
    "    prob += pulp.lpSum([x[n] for n in nodes]) # sum of x's \n",
    "    \n",
    "    # integer constraints\n",
    "    for n in nodes:\n",
    "        x[n].bounds(0, 1) # either 0 or 1 since x's are integers\n",
    "    \n",
    "    # independence constraints                                         \n",
    "    for (u,v) in edges:\n",
    "        prob += (x[u] + x[v] <= 1)\n",
    "    \n",
    "    # solve the linear program     \n",
    "    prob.solve()\n",
    "     \n",
    "    solution = []\n",
    "\n",
    "    for n in nodes:    \n",
    "        solution.append((n, int(pulp.value(x[n]))))        \n",
    "    \n",
    "    # return value of objective function as integer\n",
    "    return solution    \n"
   ]
  },
  {
   "cell_type": "markdown",
   "metadata": {},
   "source": [
    "The following code outputs the size of the sets computed by your function."
   ]
  },
  {
   "cell_type": "code",
   "execution_count": 145,
   "metadata": {
    "collapsed": false
   },
   "outputs": [],
   "source": [
    "def set_weight(solution):\n",
    "    \"\"\"Computes the total weight of the solution of an LP or IP for independent set.\n",
    "    \n",
    "    Args:\n",
    "      - solution (list[int, float]): the LP or IP solution\n",
    "    \n",
    "    Returns:\n",
    "      (float) Total weight of the solution\n",
    "    \n",
    "    \"\"\"\n",
    "    return sum(value for (node, value) in solution)"
   ]
  },
  {
   "cell_type": "code",
   "execution_count": 146,
   "metadata": {
    "collapsed": false
   },
   "outputs": [
    {
     "name": "stdout",
     "output_type": "stream",
     "text": [
      "Size of karate set =  20\n",
      "Size of power set =  2738\n"
     ]
    }
   ],
   "source": [
    "karate_ind_set = independent_set_ip(karate)\n",
    "print \"Size of karate set = \", set_weight(karate_ind_set)\n",
    "power_ind_set = independent_set_ip(power)\n",
    "print \"Size of power set = \", set_weight(power_ind_set)"
   ]
  },
  {
   "cell_type": "markdown",
   "metadata": {},
   "source": [
    "### Problem 3\n",
    "\n",
    "Take the *linear programming relaxation* of your integer program and implement a function to solve it. This simply means that in your integer program, you should replace each constraint $x_i \\in \\{0,1\\}$ with $0 \\leq x_i \\leq 1$."
   ]
  },
  {
   "cell_type": "code",
   "execution_count": 147,
   "metadata": {
    "collapsed": false
   },
   "outputs": [],
   "source": [
    "def independent_set_lp(graph):\n",
    "    \"\"\"Computes the solution to the linear programming relaxation for the\n",
    "    maximum independent set problem.\n",
    "    \n",
    "    Args:\n",
    "      - graph (nx.Graph): an undirected graph\n",
    "    \n",
    "    Returns:\n",
    "        (list[(int, float)]) The LP solution as a list of node-value pairs.\n",
    "        \n",
    "    \"\"\"    \n",
    "    # TODO: implement function\n",
    "    \n",
    "    nodes = []\n",
    "    edges = []\n",
    "    \n",
    "    # extract nodes from graph\n",
    "    for n in graph.nodes():\n",
    "        nodes.append(n)        \n",
    "        \n",
    "    # extract edges from graph\n",
    "    for (u, v) in graph.edges():\n",
    "        edges.append((u, v))\n",
    "    \n",
    "    # indicator variables: x_i = 1 if node i is in MSIS, x = 0 otherwise\n",
    "    x = pulp.LpVariable.dicts(\"Indicators\", nodes, None, None, pulp.LpContinuous)\n",
    "    \n",
    "    # problem statement     \n",
    "    prob = pulp.LpProblem(\"Maximum Size Independent Set\", pulp.LpMaximize)\n",
    " \n",
    "    # objective function\n",
    "    prob += pulp.lpSum([x[n] for n in nodes]) # sum of x's \n",
    "    \n",
    "    # integer constraints\n",
    "    for n in nodes:\n",
    "        x[n].bounds(0, 1) # between 0 and 1 since x's are continuous\n",
    "    \n",
    "    # independence constraints                                                \n",
    "    for (u,v) in edges:\n",
    "        prob += (x[u] + x[v] <= 1)\n",
    "    \n",
    "    # solve the linear program     \n",
    "    prob.solve()\n",
    "     \n",
    "    solution = []\n",
    "\n",
    "    for n in nodes:    \n",
    "        solution.append((n, pulp.value(x[n])))        \n",
    "    \n",
    "    # return value of objective function as float\n",
    "    return solution    \n",
    "    "
   ]
  },
  {
   "cell_type": "markdown",
   "metadata": {},
   "source": [
    "Let's see how the LP solutions compare to those of the IP."
   ]
  },
  {
   "cell_type": "code",
   "execution_count": 148,
   "metadata": {
    "collapsed": false
   },
   "outputs": [
    {
     "name": "stdout",
     "output_type": "stream",
     "text": [
      "Value of karate set =  20.5\n",
      "Value of power set =  2758.0\n"
     ]
    }
   ],
   "source": [
    "karate_ind_set_relax = independent_set_lp(karate)\n",
    "print \"Value of karate set = \", set_weight(karate_ind_set_relax)\n",
    "power_ind_set_relax = independent_set_lp(power)\n",
    "print \"Value of power set = \", set_weight(power_ind_set_relax)"
   ]
  },
  {
   "cell_type": "markdown",
   "metadata": {},
   "source": [
    "A heuristic way to convert a fractional solution to an independent set is as follows. For each node $i$, include the node in the set if $x_i > 1/2$, and discard it otherwise. This will yield a set of $a$ nodes which have $b$ edges between them. By removing at most one node for each edge, this yields an independent set of size at least $a - b$."
   ]
  },
  {
   "cell_type": "markdown",
   "metadata": {},
   "source": [
    "Implement this rounding procedure."
   ]
  },
  {
   "cell_type": "code",
   "execution_count": 149,
   "metadata": {
    "collapsed": false
   },
   "outputs": [],
   "source": [
    "def round_solution(solution, graph):\n",
    "    \"\"\"Finds the subgraph corresponding to the rounding of\n",
    "    a solution to the independent set LP relaxation.\n",
    "    \n",
    "    Args:\n",
    "      - solution (list[(int, float)]): LP solution\n",
    "      - graph (nx.Graph): the original graph\n",
    "      \n",
    "    Returns:\n",
    "        (nx.Graph) The subgraph corresponding to rounded solution\n",
    "    \n",
    "    \"\"\"\n",
    "    # TODO: implement function   \n",
    "    node_set = []\n",
    "    \n",
    "    for i,x_i in solution:\n",
    "        if x_i > .5:\n",
    "            node_set.append(i)            \n",
    "\n",
    "    for n in graph.nodes():\n",
    "        if n not in node_set:\n",
    "            graph.remove_node(n)\n",
    "            \n",
    "    return graph"
   ]
  },
  {
   "cell_type": "markdown",
   "metadata": {},
   "source": [
    "The following function assesses the quality of the heuristic approach."
   ]
  },
  {
   "cell_type": "code",
   "execution_count": 150,
   "metadata": {
    "collapsed": false
   },
   "outputs": [],
   "source": [
    "def solution_quality(rounded, optimal):\n",
    "    \"\"\"Computes the percent optimality of the rounded solution.\n",
    "    \n",
    "    Args:\n",
    "      - rounded (nx.Graph): the graph obtained from rounded LP solution\n",
    "      - optimal: size of maximum independent set\n",
    "    \n",
    "    \"\"\"\n",
    "    num_nodes = rounded.number_of_nodes() - rounded.number_of_edges()\n",
    "    return float(num_nodes) / optimal"
   ]
  },
  {
   "cell_type": "markdown",
   "metadata": {},
   "source": [
    "Let's check the quality of this approach compared to the optimal IP solutions."
   ]
  },
  {
   "cell_type": "code",
   "execution_count": 151,
   "metadata": {
    "collapsed": false
   },
   "outputs": [
    {
     "name": "stdout",
     "output_type": "stream",
     "text": [
      "Quality of karate rounded solution = 90%\n",
      "Quality of power rounded solution = 95%\n"
     ]
    }
   ],
   "source": [
    "karate_rounded = round_solution(karate_ind_set_relax, karate)\n",
    "karate_quality = solution_quality(karate_rounded, set_weight(karate_ind_set))\n",
    "print \"Quality of karate rounded solution = {:.0f}%\".format(karate_quality*100)\n",
    "\n",
    "power_rounded = round_solution(power_ind_set_relax, power)\n",
    "power_quality = solution_quality(power_rounded, set_weight(power_ind_set))\n",
    "print \"Quality of power rounded solution = {:.0f}%\".format(power_quality*100)"
   ]
  },
  {
   "cell_type": "code",
   "execution_count": null,
   "metadata": {
    "collapsed": true
   },
   "outputs": [],
   "source": []
  },
  {
   "cell_type": "code",
   "execution_count": null,
   "metadata": {
    "collapsed": true
   },
   "outputs": [],
   "source": []
  }
 ],
 "metadata": {
  "kernelspec": {
   "display_name": "Python 2",
   "language": "python",
   "name": "python2"
  },
  "language_info": {
   "codemirror_mode": {
    "name": "ipython",
    "version": 2
   },
   "file_extension": ".py",
   "mimetype": "text/x-python",
   "name": "python",
   "nbconvert_exporter": "python",
   "pygments_lexer": "ipython2",
   "version": "2.7.10"
  }
 },
 "nbformat": 4,
 "nbformat_minor": 0
}
