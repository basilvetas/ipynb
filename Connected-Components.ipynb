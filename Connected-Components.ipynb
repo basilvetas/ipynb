{
 "cells": [
  {
   "cell_type": "markdown",
   "metadata": {},
   "source": [
    "# Connected Components\n",
    "\n",
    "The purpose of this assignment is to familiarize yourself with the handling of graph data structures. You will implement depth-first search for identifying the connected components of an undirected graph, implementing procedure Search as a subroutine along the way.\n",
    "\n",
    "You will use the [NetworkX](https://networkx.github.io/) Python package to represent and manipulate graphs. You should first familiarize yourself with its functionality by going through the brief [tutorial](http://networkx.github.io/documentation/networkx-1.9.1/tutorial/index.html). For this homework, you may only use the basic undirected graph methods listed [here](http://networkx.github.io/documentation/networkx-1.9.1/reference/classes.graph.html).\n",
    "\n",
    "As a use case, we will work with a dataset recording the interactions between characters in Homer's *Iliad*."
   ]
  },
  {
   "cell_type": "code",
   "execution_count": 1,
   "metadata": {
    "collapsed": true
   },
   "outputs": [],
   "source": [
    "import networkx\n",
    "import urllib2\n",
    "homer = urllib2.urlopen('http://people.sc.fsu.edu/~jburkardt/datasets/sgb/homer.dat')"
   ]
  },
  {
   "cell_type": "markdown",
   "metadata": {},
   "source": [
    "The format of the data is straightforward. After some comment lines (beginning with \\*), the file lists a codename for each character (i.e., node of the graph), followed by a description. The file then lists the groups of characters that interact in each chapter, from which you will form the edges. For instance, the first line has the form:\n",
    "\n",
    "```1:CH,AG,ME,GS;AP,CH;HE,AC;AC,AG,CA;HE,AT;AT,AC;AT,OG;NE,AG,AC;CS,OD```\n",
    "\n",
    "This means that CH,AG,ME,GS interacted, so there are edges for all pairs of these nodes. Groups of characters that interacted are separated by semicolons. The lines start with chapter information of the form `1:` or `&:`, which can be ignored for this problem."
   ]
  },
  {
   "cell_type": "markdown",
   "metadata": {},
   "source": [
    "First implement a function to read in the nodes from the input file. You may implement any auxiliary functions as needed, and are encouraged to use small functions with specific purposes to keep your code readable. Any function you implement should be clearly commented."
   ]
  },
  {
   "cell_type": "code",
   "execution_count": 2,
   "metadata": {
    "collapsed": true
   },
   "outputs": [],
   "source": [
    "def read_nodes(gfile):\n",
    "    \"\"\"Reads in the nodes of the graph from the input file.\n",
    "    \n",
    "    Args:\n",
    "        gfile: A handle for the file containing the graph data, starting at the top.\n",
    "        \n",
    "    Returns:\n",
    "        A generator of the nodes in the graph, yielding a list of the form:\n",
    "            ['CH', 'AG, 'ME', ...]\n",
    "    \"\"\"\n",
    "    # TODO: implement function\n",
    "    nodes = [] \n",
    "    \n",
    "    # read in the lines then parse each one for the node and append to list\n",
    "    gf_local = urllib2.urlopen(gfile.url)\n",
    "    f = gf_local.readlines()\n",
    "    for line in f:\n",
    "        tokens = line.split()\n",
    "        if len(tokens) > 0:\n",
    "            if tokens[0] != '*':            \n",
    "                if len(tokens[0]) == 2:\n",
    "                    nodes.append(tokens[0])\n",
    "        \n",
    "    return nodes "
   ]
  },
  {
   "cell_type": "markdown",
   "metadata": {},
   "source": [
    "Next implement a function to read in the edges from the input file."
   ]
  },
  {
   "cell_type": "code",
   "execution_count": 3,
   "metadata": {
    "collapsed": true
   },
   "outputs": [],
   "source": [
    "def read_edges(gfile):\n",
    "    \"\"\"Reads in the edges of the graph from the input file.\n",
    "    \n",
    "    Args:\n",
    "        gfile: A handle for the file containing the graph data, starting at the top \n",
    "            of the edges section.\n",
    "            \n",
    "    Returns:\n",
    "        A generator of the edges in the graph, yielding a list of pairs of the form:\n",
    "            [('CH', 'AG'), ('AG', 'ME'), ...]\n",
    "    \"\"\"\n",
    "    # TODO: implement function\n",
    "    edgesets = []\n",
    "    edges = [] \n",
    "    \n",
    "    # read in the lines then parse each one for the edgeset\n",
    "    gf_local = urllib2.urlopen(gfile.url)\n",
    "    f = gf_local.readlines()\n",
    "    for line in f:\n",
    "        tokens = line.split()\n",
    "        if len(tokens) > 0:\n",
    "            if tokens[0] != '*':            \n",
    "                if len(tokens[0]) != 2:                   \n",
    "                    for edgeset in tokens[0].split(':')[1].split(';'):                                        \n",
    "                        edgesets.append(edgeset.split(','))\n",
    "            \n",
    "    # for each egdeset, create a new edge between each node and append to list\n",
    "    for edgeset in edgesets:\n",
    "        for i in range(0, len(edgeset)):\n",
    "            for j in range(i + 1, len(edgeset)):\n",
    "                e = (edgeset[i], edgeset[j])\n",
    "                edges.append(e)                \n",
    "    return edges"
   ]
  },
  {
   "cell_type": "markdown",
   "metadata": {},
   "source": [
    "The following code should now correctly create the graph."
   ]
  },
  {
   "cell_type": "code",
   "execution_count": 4,
   "metadata": {
    "collapsed": false
   },
   "outputs": [],
   "source": [
    "import networkx as nx\n",
    "G = nx.Graph()\n",
    "G.add_nodes_from(read_nodes(homer))\n",
    "G.add_edges_from(read_edges(homer))"
   ]
  },
  {
   "cell_type": "markdown",
   "metadata": {},
   "source": [
    "Next implement procedure Search. The function takes in a graph and a root node, and returns a list of the nodes visited during the search. The nodes should appear in the order in which they were *first visited*. The neighbors of a node should be processed in *alphabetical order*, where numbers come before letters. This will ensure that the output of your function is uniquely defined, given any input node."
   ]
  },
  {
   "cell_type": "code",
   "execution_count": 5,
   "metadata": {
    "collapsed": true
   },
   "outputs": [],
   "source": [
    "def Search(graph, root):\n",
    "    \"\"\"Runs depth-first search through a graph, starting at a given root. Neighboring\n",
    "    nodes are processed in alphabetical order.\n",
    "    \n",
    "    Args:\n",
    "        graph: the given graph, with nodes encoded as strings.\n",
    "        root: the node from which to start the search.\n",
    "        \n",
    "    Returns:\n",
    "        A list of nodes in the order in which they were first visited.\n",
    "    \"\"\"\n",
    "    # TODO: implement function\n",
    "    \n",
    "    # first color all the nodes White and make initial call to DFS     \n",
    "    for node in graph.nodes():    \n",
    "        graph.node[node]['color'] = \"W\"\n",
    "        graph.node[node]['predecessor'] = None\n",
    "    time = 0\n",
    "    return DFS(graph, root, time)\n",
    "    \n",
    "def DFS(graph, node, time):\n",
    "    \n",
    "    # color this node Gray and append to list once discovered\n",
    "    visited = []\n",
    "    time += 1\n",
    "    graph.node[node]['discovered'] = time\n",
    "    graph.node[node]['color'] = \"G\"\n",
    "    visited.append(node)\n",
    "    \n",
    "    # recursively search through each neighbor this node and add children to visited \n",
    "    for neighbor in sorted(graph.neighbors(node)):\n",
    "        if graph.node[neighbor]['color'] == \"W\":\n",
    "            graph.node[neighbor]['predecessor'] = graph.node[node] \n",
    "            visited.extend(DFS(graph, neighbor, time))\n",
    "    \n",
    "    # color this node Black when finished and return visited\n",
    "    graph.node[node]['color'] = \"B\"\n",
    "    time += 1\n",
    "    graph.node[node]['finished'] = time\n",
    "    return visited"
   ]
  },
  {
   "cell_type": "markdown",
   "metadata": {},
   "source": [
    "We will check the correctness of your code by verifying that it correctly computes the DFS tree starting at Ulysses (node `OD`)."
   ]
  },
  {
   "cell_type": "code",
   "execution_count": 6,
   "metadata": {
    "collapsed": false
   },
   "outputs": [],
   "source": [
    "ulysses = Search(G, 'OD')"
   ]
  },
  {
   "cell_type": "markdown",
   "metadata": {},
   "source": [
    "Next implement DFS to find the connected components of the character graph. When choosing roots for your components, always pick the *smallest unvisited node* according to alphabetical ordering. Combined with your Search routine, this will ensure that the output is again uniquely defined."
   ]
  },
  {
   "cell_type": "code",
   "execution_count": 7,
   "metadata": {
    "collapsed": true
   },
   "outputs": [],
   "source": [
    "def connected_components(graph):\n",
    "    \"\"\"Computes the connected components of the given graph.\n",
    "    \n",
    "    Args: \n",
    "        graph: the given graph, with nodes encoded as strings.\n",
    "        \n",
    "    Returns:\n",
    "        The connected components of the graph. Components are listed in\n",
    "        alphabetical order of their root nodes.\n",
    "    \"\"\"\n",
    "    # TODO: implement function\n",
    "    component_roots = []\n",
    "    node_list = sorted(graph.nodes())\n",
    "    while(len(graph.nodes()) > 0):\n",
    "        node_list = sorted(graph.nodes()) \n",
    "        component = Search(graph, node_list[0])\n",
    "        component_roots.append(component)\n",
    "        graph.remove_nodes_from(component)\n",
    "        \n",
    "    return sorted(component_roots)"
   ]
  },
  {
   "cell_type": "markdown",
   "metadata": {},
   "source": [
    "We will check correctness of your code by verifying that your output list is identical to our solution."
   ]
  },
  {
   "cell_type": "code",
   "execution_count": 8,
   "metadata": {
    "collapsed": false
   },
   "outputs": [],
   "source": [
    "character_interactions = connected_components(G)"
   ]
  },
  {
   "cell_type": "markdown",
   "metadata": {},
   "source": [
    "As a preliminary check, you should find that the following statements are all true."
   ]
  },
  {
   "cell_type": "code",
   "execution_count": 9,
   "metadata": {
    "collapsed": false
   },
   "outputs": [
    {
     "name": "stdout",
     "output_type": "stream",
     "text": [
      "There are 12 connected components in the Iliad: True\n",
      "The giant component has size 542: True\n",
      "There are 5 isolated characters: True\n"
     ]
    }
   ],
   "source": [
    "component_sizes = [len(c) for c in character_interactions]\n",
    "print \"There are 12 connected components in the Iliad:\", len(component_sizes) == 12\n",
    "print \"The giant component has size 542:\", max(component_sizes) == 542\n",
    "print \"There are 5 isolated characters:\", len([c for c in component_sizes if c == 1]) == 5"
   ]
  },
  {
   "cell_type": "code",
   "execution_count": null,
   "metadata": {
    "collapsed": true
   },
   "outputs": [],
   "source": []
  }
 ],
 "metadata": {
  "kernelspec": {
   "display_name": "Python 2",
   "language": "python",
   "name": "python2"
  },
  "language_info": {
   "codemirror_mode": {
    "name": "ipython",
    "version": 2
   },
   "file_extension": ".py",
   "mimetype": "text/x-python",
   "name": "python",
   "nbconvert_exporter": "python",
   "pygments_lexer": "ipython2",
   "version": "2.7.10"
  }
 },
 "nbformat": 4,
 "nbformat_minor": 0
}
